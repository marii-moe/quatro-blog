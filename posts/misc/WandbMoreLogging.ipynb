{
 "cells": [
  {
   "cell_type": "code",
   "execution_count": 2,
   "id": "f0a5d97f",
   "metadata": {},
   "outputs": [],
   "source": [
    "from diffusers import UNet2DModel\n",
    "from miniai.accel import *\n",
    "import pickle,gzip,math,os,time,shutil,torch,random,logging\n",
    "import fastcore.all as fc,matplotlib as mpl,numpy as np,matplotlib.pyplot as plt\n",
    "from collections.abc import Mapping\n",
    "from pathlib import Path\n",
    "from functools import partial\n",
    "\n",
    "from fastcore.foundation import L\n",
    "import torchvision.transforms.functional as TF,torch.nn.functional as F\n",
    "from torch import tensor,nn,optim\n",
    "from torch.utils.data import DataLoader,default_collate\n",
    "from torch.nn import init\n",
    "from torch.optim import lr_scheduler\n",
    "\n",
    "from miniai.datasets import *\n",
    "from miniai.conv import *\n",
    "from miniai.learner import *\n",
    "from miniai.activations import *\n",
    "from miniai.init import *\n",
    "from miniai.sgd import *\n",
    "from miniai.resnet import *\n",
    "from miniai.augment import *\n",
    "import wandb"
   ]
  },
  {
   "cell_type": "code",
   "execution_count": 36,
   "id": "01336d74",
   "metadata": {},
   "outputs": [
    {
     "name": "stdout",
     "output_type": "stream",
     "text": [
      "Object `Metric` not found.\n"
     ]
    }
   ],
   "source": [
    "Metric??"
   ]
  },
  {
   "cell_type": "markdown",
   "id": "d77fecb8",
   "metadata": {},
   "source": [
    "Sampling is very important for generative modeling. We are creating a `SamplesCB` here, that samples from our model. We Attempt to mirror the API of the `MetricsCB`."
   ]
  },
  {
   "cell_type": "markdown",
   "id": "5cd9a1fd",
   "metadata": {},
   "source": [
    "Maybe Visualization Callback instead???"
   ]
  },
  {
   "cell_type": "code",
   "execution_count": null,
   "id": "94574c94",
   "metadata": {},
   "outputs": [],
   "source": [
    "class Metric:\n",
    "    def __init__(self): self.reset()\n",
    "    def reset(self): self.vals,self.ns = [],[]\n",
    "    def add(self, inp, targ=None, n=1):\n",
    "        self.last = self.calc(inp, targ)\n",
    "        self.vals.append(self.last)\n",
    "        self.ns.append(n)\n",
    "    @property\n",
    "    def value(self):\n",
    "        ns = tensor(self.ns)\n",
    "        return (tensor(self.vals)*ns).sum()/ns.sum()\n",
    "    def calc(self, inps, targs): return inps"
   ]
  },
  {
   "cell_type": "code",
   "execution_count": 49,
   "id": "014319f2",
   "metadata": {},
   "outputs": [],
   "source": [
    "RecorderCB??"
   ]
  },
  {
   "cell_type": "code",
   "execution_count": 42,
   "id": "ef55bbb3",
   "metadata": {},
   "outputs": [
    {
     "data": {
      "text/plain": [
       "[<matplotlib.lines.Line2D at 0x7f92469fc790>,\n",
       " <matplotlib.lines.Line2D at 0x7f92469fc850>,\n",
       " <matplotlib.lines.Line2D at 0x7f92469fc970>]"
      ]
     },
     "execution_count": 42,
     "metadata": {},
     "output_type": "execute_result"
    },
    {
     "data": {
      "image/png": "[encoded data removed]",
      "text/plain": [
       "<Figure size 640x480 with 1 Axes>"
      ]
     },
     "metadata": {},
     "output_type": "display_data"
    }
   ],
   "source": [
    "plt.plot([[1,2,3],[4,5,6]])"
   ]
  },
  {
   "cell_type": "code",
   "execution_count": null,
   "id": "05d9714a",
   "metadata": {},
   "outputs": [],
   "source": [
    "class LoggingCB(Callback):\n",
    "    def _log(self, d): print(d)\n",
    "    def before_fit(self, learn): learn.logs = self\n",
    "    def before_epoch(self, learn): [o.reset() for o in self.all_metrics.values()]\n",
    "\n",
    "    def after_epoch(self, learn):\n",
    "        log = {k:f'{v.compute():.3f}' for k,v in self.all_metrics.items()}\n",
    "        log['epoch'] = learn.epoch\n",
    "        log['train'] = 'train' if learn.model.training else 'eval'\n",
    "        self._log(log)\n",
    "\n",
    "    def after_batch(self, learn):\n",
    "        x,y,*_ = to_cpu(learn.batch)\n",
    "        for m in self.metrics.values(): m.update(to_cpu(learn.preds), y)\n",
    "        self.loss.update(to_cpu(learn.loss), weight=len(x))"
   ]
  },
  {
   "cell_type": "code",
   "execution_count": null,
   "id": "221f5081",
   "metadata": {},
   "outputs": [],
   "source": [
    "class VizualsCB(Callback):"
   ]
  },
  {
   "cell_type": "code",
   "execution_count": 48,
   "id": "0b6eb2e5",
   "metadata": {},
   "outputs": [],
   "source": [
    "Learner??"
   ]
  },
  {
   "cell_type": "code",
   "execution_count": 3,
   "id": "bb196c71",
   "metadata": {},
   "outputs": [],
   "source": [
    "class WandBCB(Callback):\n",
    "    order=1\n",
    "    def __init__(self, config, project=None,suppress_metric=True): fc.store_attr()\n",
    "    def before_fit(self, learn):  \n",
    "        self.wb=wandb.init(project=self.project, config=self.config)\n",
    "        if hasattr(learn,'metrics'): learn.metrics._log=self._with_wb_logs(learn.metrics._log)\n",
    "    def after_fit(self, learn): \n",
    "        self.wb.finish()\n",
    "        if hasattr(learn,'metrics'): learn.metrics._log=self.f\n",
    "\n",
    "    def _with_wb_logs(self,f)\n",
    "        self.f=f\n",
    "        def _log(o, d): \n",
    "            if d['train']=='train': \n",
    "                self.wb.log({'train_'+m:float(d[m]) for m in self.all_metrics})\n",
    "            else: \n",
    "                self.wb.log({'val_'+m:float(d[m]) for m in self.all_metrics})\n",
    "            if not self.suppress_metric: f(d)\n",
    "        return _log\n",
    "\n",
    "    def after_epoch(self, learn):\n",
    "        self.wb.log({'samples':self.sample_figure(learn)})\n",
    "    def sample_figure(self, learn):\n",
    "        with torch.no_grad():\n",
    "            samples = sample(learn.model, (16, 3, 32, 32))\n",
    "        s = (samples[-1] + 0.5).clamp(0,1)\n",
    "        plt.clf()\n",
    "        fig, axs = get_grid(16)\n",
    "        for im,ax in zip(s[:16], axs.flat): show_image(im, ax=ax)\n",
    "        return fig\n",
    "\n",
    "    def after_batch(self, learn):\n",
    "        self.training=learn.training\n",
    "        self.wb.log({'loss':learn.loss})"
   ]
  },
  {
   "cell_type": "code",
   "execution_count": 17,
   "id": "040deba7",
   "metadata": {},
   "outputs": [],
   "source": [
    " with_cbs??"
   ]
  },
  {
   "cell_type": "code",
   "execution_count": null,
   "id": "f8f8ef07",
   "metadata": {},
   "outputs": [],
   "source": []
  }
 ],
 "metadata": {
  "kernelspec": {
   "display_name": "Python 3 (ipykernel)",
   "language": "python",
   "name": "python3"
  },
  "language_info": {
   "codemirror_mode": {
    "name": "ipython",
    "version": 3
   },
   "file_extension": ".py",
   "mimetype": "text/x-python",
   "name": "python",
   "nbconvert_exporter": "python",
   "pygments_lexer": "ipython3",
   "version": "3.10.4"
  }
 },
 "nbformat": 4,
 "nbformat_minor": 5
}
