{
 "cells": [
  {
   "cell_type": "code",
   "execution_count": 1,
   "id": "60982516",
   "metadata": {},
   "outputs": [],
   "source": [
    "from fastai.basics import *"
   ]
  },
  {
   "cell_type": "code",
   "execution_count": 2,
   "id": "100dbb19",
   "metadata": {},
   "outputs": [],
   "source": [
    "def update_prev_grad(p, mom, dampening=False, grad_avg=None, **kwargs):\n",
    "    \"Keeps track of the previous gradient, should be one of last cbs. \"\n",
    "    return {'prev_grad': p.grad.data}"
   ]
  },
  {
   "cell_type": "code",
   "execution_count": 3,
   "id": "02335cfa",
   "metadata": {},
   "outputs": [],
   "source": [
    "def n_avg_grad(p,lr,nmom=None,n_avg=None,prev_grad=None,**kwags):\n",
    "    if n_avg is None: \n",
    "        prev_grad=torch.zeros_like(p.grad.data)\n",
    "        n_avg = p.grad.data-prev_grad\n",
    "    else:\n",
    "        n_avg = (1-nmom)*n_avg+nmom*(p.grad.data-prev_grad)\n",
    "    return {'n_avg': n_avg,'prev_grad':prev_grad}"
   ]
  },
  {
   "cell_type": "code",
   "execution_count": 4,
   "id": "c2500d07",
   "metadata": {},
   "outputs": [],
   "source": [
    "def n_average_sqr_grad(p,nmom,sqr_mom, prev_grad=None, dampening=True, sqr_avg=None, **kwargs):\n",
    "    if sqr_avg is None: sqr_avg = torch.zeros_like(p.grad.data)\n",
    "    damp = 1-sqr_mom if dampening else 1.\n",
    "    grad = (2-nmom)*p.grad.data+(nmom-1)*prev_grad\n",
    "    sqr_avg.mul_(sqr_mom).addcmul_(grad,grad, value=damp)\n",
    "    return {'sqr_avg': sqr_avg}"
   ]
  },
  {
   "cell_type": "code",
   "execution_count": 5,
   "id": "6a509797",
   "metadata": {},
   "outputs": [],
   "source": [
    "def adan_step(p,lr,grad_avg=None,nmom=None,n_avg=None,sqr_avg=None,\n",
    "             eps=None,**kwargs):\n",
    "    p.data.addcdiv_(grad_avg+(1-nmom)*n_avg, \n",
    "                    (sqr_avg).sqrt() + eps, \n",
    "                    value = -lr)"
   ]
  },
  {
   "cell_type": "code",
   "execution_count": 6,
   "id": "e15292f5",
   "metadata": {},
   "outputs": [],
   "source": [
    "def Adan(params, lr, mom=0.9, sqr_mom=0.99,nmom=0.9, eps=1e-5, wd=0.01, decouple_wd=True):\n",
    "    \"A `Optimizer` for Adam with `lr`, `mom`, `sqr_mom`, `eps` and `params`\"\n",
    "    cbs = [weight_decay] if decouple_wd else [l2_reg]\n",
    "    cbs += [partial(average_grad, dampening=True),n_avg_grad, n_average_sqr_grad,adan_step, update_prev_grad]\n",
    "    return Optimizer(params, cbs, lr=lr,nmom=nmom, mom=mom, sqr_mom=sqr_mom, eps=eps, wd=wd)"
   ]
  },
  {
   "cell_type": "code",
   "execution_count": 7,
   "id": "16042972",
   "metadata": {},
   "outputs": [
    {
     "name": "stdout",
     "output_type": "stream",
     "text": [
      "Parameter containing:\n",
      "tensor([[ 0.4984,  0.2108,  0.3309, -0.1065],\n",
      "        [-0.4451,  0.3669, -0.2573,  0.1675],\n",
      "        [-0.3011, -0.4368, -0.3770,  0.4079],\n",
      "        [-0.0182,  0.3828,  0.4397, -0.0060]], requires_grad=True)\n"
     ]
    }
   ],
   "source": [
    "l=nn.Linear(4,4)\n",
    "opt=Adan(l.parameters(),0.01)\n",
    "print(l.weight)\n",
    "inp=torch.tensor([.1,.2,.3,.4])\n",
    "F.mse_loss(l(inp),torch.tensor([1.,2.,3.,4.])).backward()\n",
    "opt.step()\n",
    "F.mse_loss(l(inp),torch.tensor([1.,2.,3.,4.])).backward()\n",
    "opt.step()"
   ]
  },
  {
   "cell_type": "code",
   "execution_count": 8,
   "id": "5533bab1",
   "metadata": {},
   "outputs": [
    {
     "data": {
      "text/plain": [
       "Parameter containing:\n",
       "tensor([[ 0.5296,  0.2421,  0.3622, -0.0752],\n",
       "        [-0.4137,  0.3981, -0.2259,  0.1988],\n",
       "        [-0.2698, -0.4054, -0.3455,  0.4392],\n",
       "        [ 0.0132,  0.4141,  0.4709,  0.0254]], requires_grad=True)"
      ]
     },
     "execution_count": 8,
     "metadata": {},
     "output_type": "execute_result"
    }
   ],
   "source": [
    "l.weight"
   ]
  }
 ],
 "metadata": {
  "kernelspec": {
   "display_name": "Python 3 (ipykernel)",
   "language": "python",
   "name": "python3"
  },
  "language_info": {
   "codemirror_mode": {
    "name": "ipython",
    "version": 3
   },
   "file_extension": ".py",
   "mimetype": "text/x-python",
   "name": "python",
   "nbconvert_exporter": "python",
   "pygments_lexer": "ipython3",
   "version": "3.10.4"
  }
 },
 "nbformat": 4,
 "nbformat_minor": 5
}
